{
 "cells": [
  {
   "cell_type": "code",
   "execution_count": null,
   "metadata": {},
   "outputs": [],
   "source": [
    "from tkinter import *\n",
    "from pygame import mixer\n",
    "import tkinter.messagebox\n",
    "from tkinter import filedialog\n",
    "import os\n",
    "from mutagen.mp3 import MP3\n",
    "import threading\n",
    "import time\n",
    "\n",
    "root=Tk()\n",
    "root.title('Music Player')\n",
    "mixer.init()\n",
    "\n",
    "filelabel=Label(root,text='let\\'s play music!')\n",
    "filelabel.pack(pady=10)\n",
    "\n",
    "leftframe=Frame(root)\n",
    "leftframe.pack(side='left',padx=15,pady=15)\n",
    "playlistbox=Listbox(leftframe)\n",
    "playlistbox.pack()\n",
    "\n",
    "rightframe=Frame(root)\n",
    "rightframe.pack(side='left')\n",
    "\n",
    "root.mainloop()"
   ]
  }
 ],
 "metadata": {
  "kernelspec": {
   "display_name": "Python 3",
   "language": "python",
   "name": "python3"
  },
  "language_info": {
   "codemirror_mode": {
    "name": "ipython",
    "version": 3
   },
   "file_extension": ".py",
   "mimetype": "text/x-python",
   "name": "python",
   "nbconvert_exporter": "python",
   "pygments_lexer": "ipython3",
   "version": "3.7.3"
  }
 },
 "nbformat": 4,
 "nbformat_minor": 2
}
